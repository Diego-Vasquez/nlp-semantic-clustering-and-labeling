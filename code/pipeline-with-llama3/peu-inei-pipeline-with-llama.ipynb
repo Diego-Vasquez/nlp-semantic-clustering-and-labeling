{
 "cells": [
  {
   "cell_type": "code",
   "execution_count": 4,
   "metadata": {
    "execution": {
     "iopub.execute_input": "2024-12-09T17:14:59.642009Z",
     "iopub.status.busy": "2024-12-09T17:14:59.641612Z",
     "iopub.status.idle": "2024-12-09T17:14:59.746195Z",
     "shell.execute_reply": "2024-12-09T17:14:59.745221Z",
     "shell.execute_reply.started": "2024-12-09T17:14:59.641979Z"
    },
    "trusted": true
   },
   "outputs": [
    {
     "name": "stdout",
     "output_type": "stream",
     "text": [
      "Logged in successfully!\n"
     ]
    }
   ],
   "source": [
    "from huggingface_hub import login\n",
    "\n",
    "# Introduce tu token personal\n",
    "hugging_face_token = \"\"\n",
    "\n",
    "# Loguearte en Hugging Face\n",
    "login(token=hugging_face_token)\n",
    "print(\"Logged in successfully!\")"
   ]
  },
  {
   "cell_type": "code",
   "execution_count": 1,
   "metadata": {
    "_cell_guid": "b1076dfc-b9ad-4769-8c92-a6c4dae69d19",
    "_uuid": "8f2839f25d086af736a60e9eeb907d3b93b6e0e5",
    "execution": {
     "iopub.execute_input": "2024-12-09T16:50:32.678925Z",
     "iopub.status.busy": "2024-12-09T16:50:32.678579Z",
     "iopub.status.idle": "2024-12-09T16:50:50.379092Z",
     "shell.execute_reply": "2024-12-09T16:50:50.378392Z",
     "shell.execute_reply.started": "2024-12-09T16:50:32.678889Z"
    },
    "trusted": true
   },
   "outputs": [],
   "source": [
    "import torch\n",
    "from transformers import pipeline, AutoModelForCausalLM, AutoTokenizer, GenerationConfig\n",
    "\n",
    "class Llama3:\n",
    "    def __init__(self, model_path):\n",
    "        self.model_id = model_path\n",
    "\n",
    "        # Cargar el tokenizador\n",
    "        self.tokenizer = AutoTokenizer.from_pretrained(self.model_id)\n",
    "        \n",
    "        # Cargar el modelo\n",
    "        self.model = AutoModelForCausalLM.from_pretrained(\n",
    "            self.model_id,\n",
    "            torch_dtype=torch.float16,\n",
    "            device_map=\"auto\",\n",
    "        )\n",
    "\n",
    "        # Verificar y asignar tokens especiales\n",
    "        if self.tokenizer.eos_token_id is None:\n",
    "            self.tokenizer.eos_token_id = self.tokenizer.convert_tokens_to_ids(\"</s>\")\n",
    "        if self.tokenizer.pad_token_id is None:\n",
    "            self.tokenizer.pad_token_id = self.tokenizer.eos_token_id\n",
    "        \n",
    "        # Crear configuración de generación\n",
    "        self.generation_config = GenerationConfig.from_pretrained(self.model_id)\n",
    "        self.generation_config.eos_token_id = self.tokenizer.eos_token_id\n",
    "        self.generation_config.pad_token_id = self.tokenizer.pad_token_id\n",
    "\n",
    "        # Crear pipeline\n",
    "        self.pipeline = pipeline(\n",
    "            \"text-generation\",\n",
    "            model=self.model,\n",
    "            tokenizer=self.tokenizer,\n",
    "            config=self.generation_config\n",
    "        )\n",
    "\n",
    "    def get_response(self, query, message_history=[], max_tokens=100000, temperature=0.7, top_p=0.9):\n",
    "        user_prompt = message_history + [{\"role\": \"user\", \"content\": query}]\n",
    "        prompt = self.tokenizer.apply_chat_template(\n",
    "            user_prompt, tokenize=False, add_generation_prompt=True\n",
    "        )\n",
    "        \n",
    "        # Generar texto\n",
    "        outputs = self.pipeline(\n",
    "            prompt,\n",
    "            max_new_tokens=max_tokens,\n",
    "            eos_token_id=self.tokenizer.eos_token_id,\n",
    "            do_sample=True,\n",
    "            temperature=temperature,\n",
    "            top_p=top_p,\n",
    "        )\n",
    "        \n",
    "        response = outputs[0][\"generated_text\"][len(prompt):]\n",
    "        return response, user_prompt + [{\"role\": \"assistant\", \"content\": response}]\n",
    "\n",
    "    def chatbot(self, system_instructions=\"\"):\n",
    "        conversation = [{\"role\": \"system\", \"content\": system_instructions}]\n",
    "        while True:\n",
    "            user_input = input(\"User: \")\n",
    "            if user_input.lower() in [\"exit\", \"quit\"]:\n",
    "                print(\"Cerrando el chatbot. Goodbye!\")\n",
    "                break\n",
    "            response, conversation = self.get_response(user_input, conversation)\n",
    "            print(f\"Assistant: {response}\")\n",
    "\n",
    "    def chatbot_without_memory(self, system_instructions=\"\"):\n",
    "        conversation = [{\"role\": \"system\", \"content\": system_instructions}]\n",
    "        while True:\n",
    "            user_input = input(\"User: \")\n",
    "            if user_input.lower() in [\"exit\", \"quit\"]:\n",
    "                print(\"Cerrando el chatbot. Goodbye!\")\n",
    "                break\n",
    "            response, _ = self.get_response(user_input, conversation)\n",
    "            print(f\"Assistant: {response}\")\n",
    "\n",
    "    def prompt_without_memory(self, prompt, system_instructions=\"\"):\n",
    "        conversation = [{\"role\": \"system\", \"content\": system_instructions}]\n",
    "        response, _ = self.get_response(prompt, conversation)\n",
    "        return response"
   ]
  },
  {
   "cell_type": "code",
   "execution_count": 5,
   "metadata": {
    "execution": {
     "iopub.execute_input": "2024-12-09T17:15:11.176366Z",
     "iopub.status.busy": "2024-12-09T17:15:11.175553Z",
     "iopub.status.idle": "2024-12-09T17:22:32.604718Z",
     "shell.execute_reply": "2024-12-09T17:22:32.603692Z",
     "shell.execute_reply.started": "2024-12-09T17:15:11.176334Z"
    },
    "trusted": true
   },
   "outputs": [
    {
     "data": {
      "application/vnd.jupyter.widget-view+json": {
       "model_id": "4abe1a82cc0741338d76aee5c5066cdb",
       "version_major": 2,
       "version_minor": 0
      },
      "text/plain": [
       "tokenizer_config.json:   0%|          | 0.00/51.0k [00:00<?, ?B/s]"
      ]
     },
     "metadata": {},
     "output_type": "display_data"
    },
    {
     "data": {
      "application/vnd.jupyter.widget-view+json": {
       "model_id": "27a012259f3f45369ecc4f00f9068d7f",
       "version_major": 2,
       "version_minor": 0
      },
      "text/plain": [
       "tokenizer.json:   0%|          | 0.00/9.09M [00:00<?, ?B/s]"
      ]
     },
     "metadata": {},
     "output_type": "display_data"
    },
    {
     "data": {
      "application/vnd.jupyter.widget-view+json": {
       "model_id": "56ffc7f292ff470091d28b36d48f67cb",
       "version_major": 2,
       "version_minor": 0
      },
      "text/plain": [
       "special_tokens_map.json:   0%|          | 0.00/73.0 [00:00<?, ?B/s]"
      ]
     },
     "metadata": {},
     "output_type": "display_data"
    },
    {
     "data": {
      "application/vnd.jupyter.widget-view+json": {
       "model_id": "c75178ceb86248dd8e1eb22662dc3c73",
       "version_major": 2,
       "version_minor": 0
      },
      "text/plain": [
       "config.json:   0%|          | 0.00/654 [00:00<?, ?B/s]"
      ]
     },
     "metadata": {},
     "output_type": "display_data"
    },
    {
     "data": {
      "application/vnd.jupyter.widget-view+json": {
       "model_id": "3d3f42993c0f47ec9534ee84b5c05d26",
       "version_major": 2,
       "version_minor": 0
      },
      "text/plain": [
       "model.safetensors.index.json:   0%|          | 0.00/23.9k [00:00<?, ?B/s]"
      ]
     },
     "metadata": {},
     "output_type": "display_data"
    },
    {
     "data": {
      "application/vnd.jupyter.widget-view+json": {
       "model_id": "eac8ca45764344aba9a3095f1d0f11cb",
       "version_major": 2,
       "version_minor": 0
      },
      "text/plain": [
       "Downloading shards:   0%|          | 0/4 [00:00<?, ?it/s]"
      ]
     },
     "metadata": {},
     "output_type": "display_data"
    },
    {
     "data": {
      "application/vnd.jupyter.widget-view+json": {
       "model_id": "f2f724ac19b54ea093ca09266577b519",
       "version_major": 2,
       "version_minor": 0
      },
      "text/plain": [
       "model-00001-of-00004.safetensors:   0%|          | 0.00/4.98G [00:00<?, ?B/s]"
      ]
     },
     "metadata": {},
     "output_type": "display_data"
    },
    {
     "data": {
      "application/vnd.jupyter.widget-view+json": {
       "model_id": "ade5b9ca64364118a75ceaeb559015d9",
       "version_major": 2,
       "version_minor": 0
      },
      "text/plain": [
       "model-00002-of-00004.safetensors:   0%|          | 0.00/5.00G [00:00<?, ?B/s]"
      ]
     },
     "metadata": {},
     "output_type": "display_data"
    },
    {
     "data": {
      "application/vnd.jupyter.widget-view+json": {
       "model_id": "b740401f9a2a41b7bc1a98df3b02ce5c",
       "version_major": 2,
       "version_minor": 0
      },
      "text/plain": [
       "model-00003-of-00004.safetensors:   0%|          | 0.00/4.92G [00:00<?, ?B/s]"
      ]
     },
     "metadata": {},
     "output_type": "display_data"
    },
    {
     "data": {
      "application/vnd.jupyter.widget-view+json": {
       "model_id": "181dc183b3934b3587c24acbeb3dd6ab",
       "version_major": 2,
       "version_minor": 0
      },
      "text/plain": [
       "model-00004-of-00004.safetensors:   0%|          | 0.00/1.17G [00:00<?, ?B/s]"
      ]
     },
     "metadata": {},
     "output_type": "display_data"
    },
    {
     "data": {
      "application/vnd.jupyter.widget-view+json": {
       "model_id": "fd54d407de9b44b0b6c1e0e4942ac323",
       "version_major": 2,
       "version_minor": 0
      },
      "text/plain": [
       "Loading checkpoint shards:   0%|          | 0/4 [00:00<?, ?it/s]"
      ]
     },
     "metadata": {},
     "output_type": "display_data"
    },
    {
     "data": {
      "application/vnd.jupyter.widget-view+json": {
       "model_id": "5328b0f334e0494aae9f324fb0b195e4",
       "version_major": 2,
       "version_minor": 0
      },
      "text/plain": [
       "generation_config.json:   0%|          | 0.00/187 [00:00<?, ?B/s]"
      ]
     },
     "metadata": {},
     "output_type": "display_data"
    }
   ],
   "source": [
    "# if _name_ == \"_main_\":\n",
    "torch.cuda.empty_cache()\n",
    "\n",
    "bot = Llama3(\"meta-llama/Meta-Llama-3-8B-Instruct\")\n",
    "# bot.chatbot_without_memory()"
   ]
  },
  {
   "cell_type": "code",
   "execution_count": 9,
   "metadata": {
    "execution": {
     "iopub.execute_input": "2024-12-09T17:22:40.925431Z",
     "iopub.status.busy": "2024-12-09T17:22:40.925088Z",
     "iopub.status.idle": "2024-12-09T17:22:40.929877Z",
     "shell.execute_reply": "2024-12-09T17:22:40.929019Z",
     "shell.execute_reply.started": "2024-12-09T17:22:40.925400Z"
    },
    "trusted": true
   },
   "outputs": [],
   "source": [
    "INSTRUCTION = \"\"\"INPUT: \n",
    "Eres un modelo que recibiras una lista de textos donde cada linea sera de la forma: indice|texto\n",
    "\n",
    "PROCESO QUE DEBES REALIZAR:\n",
    "Solo debes evaluar las siguientes cosas:\n",
    " - similarity: Boleano que indica si todos los textos son semanticamente similares (Valores: \"True\" cuando es similar o \"False\" si no lo es)\n",
    " - cluster_name: La oración, Frase o Palabra que representa de mejor forma al conjunto de datos brindado, debe ser lo mas\n",
    "                 representativo posible.\n",
    "\n",
    "RESPUESTA:\n",
    "\n",
    "Unica linea, sin explicarme nada, solo la respuesta pedida con la forma de similarity|cluster_name\n",
    "\"\"\""
   ]
  },
  {
   "cell_type": "code",
   "execution_count": null,
   "metadata": {
    "trusted": true
   },
   "outputs": [],
   "source": [
    "# result='''398 | falta pavimentacion carreteras\n",
    "# 3325 | falta pavimentacion mejoramiento carretera\n",
    "# 3826 | falta pavimentacion calles\n",
    "# 4048 | falta pavimentacion caminos caserio\n",
    "# 4734 | falta pavimentacion calles'''"
   ]
  },
  {
   "cell_type": "code",
   "execution_count": 10,
   "metadata": {
    "execution": {
     "iopub.execute_input": "2024-12-09T17:22:44.091674Z",
     "iopub.status.busy": "2024-12-09T17:22:44.091299Z",
     "iopub.status.idle": "2024-12-09T17:25:01.139389Z",
     "shell.execute_reply": "2024-12-09T17:25:01.138398Z",
     "shell.execute_reply.started": "2024-12-09T17:22:44.091609Z"
    },
    "trusted": true
   },
   "outputs": [
    {
     "name": "stdout",
     "output_type": "stream",
     "text": [
      "True|NO SABE\n",
      "True|DESASTRES NATURALES\n",
      "True|LA DESNUTRICION\n",
      "True|LA DESNUTRICION INFANTIL\n",
      "True|ALCOHOLISMO\n",
      "True|INVASION DE VENEZOLANOS\n",
      "True|NARCOTRAFICO\n",
      "True|TERRORISMO\n",
      "True|FEMINICIDIO\n"
     ]
    },
    {
     "name": "stderr",
     "output_type": "stream",
     "text": [
      "You seem to be using the pipelines sequentially on GPU. In order to maximize efficiency please use a dataset\n"
     ]
    },
    {
     "name": "stdout",
     "output_type": "stream",
     "text": [
      "True|FEMINICIDIOS\n",
      "True|DROGADICCION\n",
      "True|ACCIDENTES DE TRANSITO\n",
      "True|ALCOHOLISMO DROGADICCION\n",
      "False|PROSTITUCION\n",
      "True|VIOLACION SEXUAL\n",
      "True|VIOLENCIA SEXUAL\n",
      "True|FALTA DE COBERTURA DE SERVICIOS BASICOS\n",
      "True|MIGRACION VENEZOLANA\n",
      "True|VIOLACIONES\n",
      "True|FALTA DE JUSTICIA\n",
      "True|FALTA DE SERVICIOS BASICOS\n",
      "True|FALTA DE APOYO AL PERUANO\n",
      "True|MIGRACION DE VENEZOLANOS\n",
      "True|MIGRACION DE VENEZOLANOS\n",
      "True|VIOLACION\n",
      "False|QUE SE VAYA LA MINA\n",
      "True|CONTAMINACION AMBIENTAL\n",
      "True|MINERIA INFORMAL\n",
      "True|FALTA DE SANEAMIENTO BASICO\n",
      "True|CONTAMINACION MINERA\n",
      "True|CONTAMINACION DE LA MINERIA\n",
      "True|FALTA DE AGUA\n",
      "True|LA CONTAMINACION AMBIENTAL\n",
      "True|DESIGUALDAD\n",
      "True|INJUSTICIA\n",
      "True|INGRESO DE VENEZOLANOS\n",
      "True|MIGRACION EXTRANJERA\n",
      "True|FALTA DE ELECTRIFICACION\n",
      "True|CONTAMINACION DEL AGUA\n",
      "True|FALTA DE VALORES\n",
      "True|VIOLENCIA A LA MUJER\n",
      "True|MIGRACION DE EXTRANJEROS\n",
      "True|FALTA DE SERVICIOS BASICOS AGUA DESAGUE\n",
      "True|FALTA DE SERVICIOS DE AGUA\n",
      "True|INGRESO DE VENEZOLANOS AL PAIS\n",
      "True|LOS VENEZOLANOS\n",
      "True|ANALFABETISMO\n",
      "True|MIGRACION\n",
      "True|MALA EDUCACION PRIVADA\n",
      "True|MALTRATO INFANTIL\n",
      "True|VIOLENCIA\n",
      "True|VIOLACIONES SEXUALES\n",
      "True|CRISIS ECONOMICA\n",
      "True|TRAFICO DE INFLUENCIAS\n",
      "True|MEJORAMIENTO DE AGUA POTABLE\n",
      "True|CUIDADO DEL MEDIO AMBIENTE\n",
      "True|CONTAMINACION DEL MEDIO AMBIENTE\n",
      "True|DISCRIMINACION\n",
      "True|LA DESNUTRICION\n",
      "True|ANEMIA\n",
      "True|MIGRACION\n",
      "True|LA INMIGRACION\n",
      "True|ASESINATOS\n",
      "True|MALTRATO A LA MUJER\n",
      "True|FALTA DE APOYO A LAS PERSONAS DE LA TERCERA EDAD\n",
      "True|VIOLACION SEXUAL FEMINICIDIO\n",
      "True|MALA FOCALIZACION DE PROGRAMAS SOCIALES\n",
      "True|FALTA DE COBERTURA DE PROGRAMAS SOCIALES\n",
      "True|VIOLACION A MENORES DE EDAD\n",
      "True|VIOLACION INFANTIL\n",
      "True|TRAFFIC VEHICULAR\n",
      "True|MEJORAMIENTO DE VIA DE COMUNICACION\n",
      "True|PODER JUDICIAL\n",
      "True|DESCENTRALIZACION\n",
      "False|CONGRESO\n",
      "True|FALTA DE COMUNICACION\n",
      "True|LEYES\n",
      "True|EXplotación Laboral\n",
      "True|FALTA DE APOYO DE LAS AUTORIDADES\n",
      "True|FALTA DE SERVICIOS BASICOS\n",
      "True|FALTA DE AGUA DESAGUE\n",
      "True|FALTA DE AGUA POTABLE\n",
      "True|FALTA DE VALORES EN LOS HOGARES\n",
      "True|MEJORAMIENTO DE CARRETERAS\n",
      "True|INVASION DE LOS EXTRANJEROS\n",
      "True|APOYO AL ADULTO MAYOR\n",
      "False|LA POLITICA\n",
      "True|CRISIS POLITICA\n",
      "True|FALTA DE LIMPIEZA PUBLICA\n",
      "True|FALTA DE ETICA\n",
      "True|FALTA DE VALORES MORALES\n",
      "True|PENSION SESENTA Y CINCO\n",
      "True|MIGRACIÓN EXTRANJERA\n",
      "True|FALTA DE CULTURA\n",
      "True|IGUALDAD DE GENERO\n",
      "True|FALTA DE APOYO A LA GANADERIA\n",
      "True|FALTA DE MEJORAMIENTO DE VIAS DE TRANSPORTE\n",
      "True|BUROCRACIA\n",
      "True|PRIVATIZACION\n",
      "True|VENTA DE TERRENOS AGRICOLAS\n",
      "True|MALA DISTRIBUCION DE LA RIQUEZA\n",
      "True|mala economia\n",
      "True|EDUCACION\n",
      "True|FALTA DE GOBERNABILIDAD\n",
      "True|FALTA DE OBRAS\n",
      "True|EXTORSIONES\n",
      "True|TRATA DE PERSONAS\n",
      "True|VIOLACION A LOS NIÃ‘OS\n",
      "True|FALTA DE OBRAS PUBLICAS\n",
      "True|FALTA DE APOYO A LA POBLACION\n",
      "False|FALTA DE ORDENAMIENTO TERRITORIAL\n",
      "True|MAL FUNCIONAMIENTO DE LA POLICIA\n",
      "True|MACHISMO\n",
      "True|APOYO\n",
      "False|APOYO\n"
     ]
    }
   ],
   "source": [
    "import pandas as pd\n",
    "import numpy as np\n",
    "\n",
    "df = pd.read_csv(\"/kaggle/input/cluster-pipexp-1/df_clusters_exp_004.csv\", index_col=0)\n",
    "n_clusters = len(np.unique(df.Cluster)) - 1\n",
    "\n",
    "df['PrimaryLabel'] = \"\"\n",
    "for cluster in range(n_clusters):\n",
    "    result = ''\n",
    "    count = 0\n",
    "    for index, row in df[df.Cluster == cluster].iterrows():\n",
    "      result += f\"{index} | {row['t1txt']}\\n\"\n",
    "      count += 1\n",
    "      if count > 700:\n",
    "          break\n",
    "    \n",
    "    response = bot.prompt_without_memory(result, INSTRUCTION)\n",
    "    print(response)\n",
    "    similarity, cluster_name = response.split('|')\n",
    "\n",
    "    if similarity:\n",
    "        df.loc[df.Cluster == cluster, 'PrimaryLabel'] = cluster_name.lower()"
   ]
  },
  {
   "cell_type": "code",
   "execution_count": 11,
   "metadata": {
    "execution": {
     "iopub.execute_input": "2024-12-09T17:25:35.859978Z",
     "iopub.status.busy": "2024-12-09T17:25:35.859299Z",
     "iopub.status.idle": "2024-12-09T17:25:35.876466Z",
     "shell.execute_reply": "2024-12-09T17:25:35.875681Z",
     "shell.execute_reply.started": "2024-12-09T17:25:35.859946Z"
    },
    "trusted": true
   },
   "outputs": [
    {
     "data": {
      "text/html": [
       "<div>\n",
       "<style scoped>\n",
       "    .dataframe tbody tr th:only-of-type {\n",
       "        vertical-align: middle;\n",
       "    }\n",
       "\n",
       "    .dataframe tbody tr th {\n",
       "        vertical-align: top;\n",
       "    }\n",
       "\n",
       "    .dataframe thead th {\n",
       "        text-align: right;\n",
       "    }\n",
       "</style>\n",
       "<table border=\"1\" class=\"dataframe\">\n",
       "  <thead>\n",
       "    <tr style=\"text-align: right;\">\n",
       "      <th></th>\n",
       "      <th>t1txt</th>\n",
       "      <th>clean</th>\n",
       "      <th>Cluster</th>\n",
       "      <th>PrimaryLabel</th>\n",
       "    </tr>\n",
       "  </thead>\n",
       "  <tbody>\n",
       "    <tr>\n",
       "      <th>395</th>\n",
       "      <td>MALA ADMINISTRACION DE LA JUSTICIA</td>\n",
       "      <td>mala administracion justicia</td>\n",
       "      <td>19</td>\n",
       "      <td>falta de justicia</td>\n",
       "    </tr>\n",
       "    <tr>\n",
       "      <th>824</th>\n",
       "      <td>FALTA DE JUSTICIA PARA LAS PERSONAS VULNERABLES</td>\n",
       "      <td>falta justicia persona vulnerables</td>\n",
       "      <td>19</td>\n",
       "      <td>falta de justicia</td>\n",
       "    </tr>\n",
       "    <tr>\n",
       "      <th>865</th>\n",
       "      <td>FALTA DE JUSTICIA</td>\n",
       "      <td>falta justicia</td>\n",
       "      <td>19</td>\n",
       "      <td>falta de justicia</td>\n",
       "    </tr>\n",
       "    <tr>\n",
       "      <th>889</th>\n",
       "      <td>FALTA DE JUSTICIA</td>\n",
       "      <td>falta justicia</td>\n",
       "      <td>19</td>\n",
       "      <td>falta de justicia</td>\n",
       "    </tr>\n",
       "    <tr>\n",
       "      <th>897</th>\n",
       "      <td>MALA ADMINISTRACION DE LA JUSTICIA</td>\n",
       "      <td>mala administracion justicia</td>\n",
       "      <td>19</td>\n",
       "      <td>falta de justicia</td>\n",
       "    </tr>\n",
       "    <tr>\n",
       "      <th>...</th>\n",
       "      <td>...</td>\n",
       "      <td>...</td>\n",
       "      <td>...</td>\n",
       "      <td>...</td>\n",
       "    </tr>\n",
       "    <tr>\n",
       "      <th>7760</th>\n",
       "      <td>FALTA DE JUSTICIA</td>\n",
       "      <td>falta justicia</td>\n",
       "      <td>19</td>\n",
       "      <td>falta de justicia</td>\n",
       "    </tr>\n",
       "    <tr>\n",
       "      <th>7831</th>\n",
       "      <td>NO HAY JUSTICIA EN LAS AUTORIDADES</td>\n",
       "      <td>justicia autoridades</td>\n",
       "      <td>19</td>\n",
       "      <td>falta de justicia</td>\n",
       "    </tr>\n",
       "    <tr>\n",
       "      <th>7917</th>\n",
       "      <td>MAL FUNCIONAMIENTO DEL SISTEMA DE JUSTICIA</td>\n",
       "      <td>mal funcionamiento sistema justicia</td>\n",
       "      <td>19</td>\n",
       "      <td>falta de justicia</td>\n",
       "    </tr>\n",
       "    <tr>\n",
       "      <th>8086</th>\n",
       "      <td>LA FALTA DE JUSTICIA</td>\n",
       "      <td>falta justicia</td>\n",
       "      <td>19</td>\n",
       "      <td>falta de justicia</td>\n",
       "    </tr>\n",
       "    <tr>\n",
       "      <th>8213</th>\n",
       "      <td>FALTA DE JUSTICIA</td>\n",
       "      <td>falta justicia</td>\n",
       "      <td>19</td>\n",
       "      <td>falta de justicia</td>\n",
       "    </tr>\n",
       "  </tbody>\n",
       "</table>\n",
       "<p>67 rows × 4 columns</p>\n",
       "</div>"
      ],
      "text/plain": [
       "                                                t1txt  \\\n",
       "395                MALA ADMINISTRACION DE LA JUSTICIA   \n",
       "824   FALTA DE JUSTICIA PARA LAS PERSONAS VULNERABLES   \n",
       "865                                 FALTA DE JUSTICIA   \n",
       "889                                 FALTA DE JUSTICIA   \n",
       "897                MALA ADMINISTRACION DE LA JUSTICIA   \n",
       "...                                               ...   \n",
       "7760                                FALTA DE JUSTICIA   \n",
       "7831               NO HAY JUSTICIA EN LAS AUTORIDADES   \n",
       "7917       MAL FUNCIONAMIENTO DEL SISTEMA DE JUSTICIA   \n",
       "8086                             LA FALTA DE JUSTICIA   \n",
       "8213                                FALTA DE JUSTICIA   \n",
       "\n",
       "                                    clean  Cluster       PrimaryLabel  \n",
       "395          mala administracion justicia       19  falta de justicia  \n",
       "824    falta justicia persona vulnerables       19  falta de justicia  \n",
       "865                        falta justicia       19  falta de justicia  \n",
       "889                        falta justicia       19  falta de justicia  \n",
       "897          mala administracion justicia       19  falta de justicia  \n",
       "...                                   ...      ...                ...  \n",
       "7760                       falta justicia       19  falta de justicia  \n",
       "7831                 justicia autoridades       19  falta de justicia  \n",
       "7917  mal funcionamiento sistema justicia       19  falta de justicia  \n",
       "8086                       falta justicia       19  falta de justicia  \n",
       "8213                       falta justicia       19  falta de justicia  \n",
       "\n",
       "[67 rows x 4 columns]"
      ]
     },
     "execution_count": 11,
     "metadata": {},
     "output_type": "execute_result"
    }
   ],
   "source": [
    "df[df.Cluster == 19]"
   ]
  },
  {
   "cell_type": "code",
   "execution_count": 12,
   "metadata": {
    "execution": {
     "iopub.execute_input": "2024-12-09T17:25:50.770360Z",
     "iopub.status.busy": "2024-12-09T17:25:50.770048Z",
     "iopub.status.idle": "2024-12-09T17:25:50.775079Z",
     "shell.execute_reply": "2024-12-09T17:25:50.774103Z",
     "shell.execute_reply.started": "2024-12-09T17:25:50.770333Z"
    },
    "trusted": true
   },
   "outputs": [],
   "source": [
    "INSTRUCTION_2 = \"\"\"INPUT: \n",
    "Eres un modelo que recibira una lista de etiquetas, donde cada linea tendra la siguiente forma: identificador|etiqueta\n",
    "\n",
    "PROCESO QUE DEBES REALIZAR:\n",
    "Para la lista de etiqueta que te mande, necesito que formes grupos de etiquetas por la cercania o similitud semantica, debido a que puede haber\n",
    "etiquetas que sean muy similares o semanticamente similares o se refieren a un tópico o tema similar, y a cada uno de estos nuevos grupos formados\n",
    "debes darle un nombre de grupo que describa de forma conscisa, clara, precisa, bien escrita y que sea representativo de todas las etiquetas que\n",
    "conforma.\n",
    "\n",
    "RESTRICCIONES:\n",
    "- Cada grupo que formes debe ser disjuntas entre ellas, es decir, cada etiqueta solo puede ser parte de uno de los grupos.\n",
    "- Todas las etiquetas deben ser parte de algun grupo.\n",
    "\n",
    "RESPUESTA:\n",
    "Lista de los nuevos grupos que haz formado, donde cada linea tiene la forma: grupo|nombre de grupo|lista de identificadores\n",
    "\"\"\""
   ]
  },
  {
   "cell_type": "code",
   "execution_count": 13,
   "metadata": {
    "execution": {
     "iopub.execute_input": "2024-12-09T17:25:51.639315Z",
     "iopub.status.busy": "2024-12-09T17:25:51.638666Z",
     "iopub.status.idle": "2024-12-09T17:25:51.646985Z",
     "shell.execute_reply": "2024-12-09T17:25:51.646000Z",
     "shell.execute_reply.started": "2024-12-09T17:25:51.639282Z"
    },
    "trusted": true
   },
   "outputs": [],
   "source": [
    "df.PrimaryLabel = df.PrimaryLabel.str.lower()"
   ]
  },
  {
   "cell_type": "code",
   "execution_count": null,
   "metadata": {
    "trusted": true
   },
   "outputs": [],
   "source": [
    "# categories_dict = {}\n",
    "\n",
    "# # Procesar línea por línea\n",
    "# current_category = None\n",
    "# for line in text_data.strip().splitlines():\n",
    "#     if line.endswith(':'):  # Detectar categorías\n",
    "#         current_category = line[:-1]  # Remover el ':' final\n",
    "#         categories_dict[current_category] = []\n",
    "#     elif line.startswith('-'):  # Detectar etiquetas\n",
    "#         label = line[1:].strip()  # Remover el '-' inicial y espacios\n",
    "#         if current_category:\n",
    "#             categories_dict[current_category].append(label)"
   ]
  },
  {
   "cell_type": "code",
   "execution_count": 14,
   "metadata": {
    "execution": {
     "iopub.execute_input": "2024-12-09T17:25:58.296844Z",
     "iopub.status.busy": "2024-12-09T17:25:58.296491Z",
     "iopub.status.idle": "2024-12-09T17:26:49.643588Z",
     "shell.execute_reply": "2024-12-09T17:26:49.642631Z",
     "shell.execute_reply.started": "2024-12-09T17:25:58.296814Z"
    },
    "trusted": true
   },
   "outputs": [
    {
     "name": "stdout",
     "output_type": "stream",
     "text": [
      "Después de analizar las etiquetas, he formado los siguientes grupos y les he asignado un nombre que describa de forma concisa, clara, precisa y representativa de todas las etiquetas que componen cada grupo:\n",
      "\n",
      "**Grupo 1: Violencia y Delincuencia**\n",
      "| grupo | nombre de grupo | lista de identificadores\n",
      "| --- | --- | --- |\n",
      "| 1 | Violencia y Delincuencia | 68, 8, 24, 40, 14, 69, 51, 9, 65, 19, 18, 107, 49, 15, 50, 15\n",
      "\n",
      "**Grupo 2: Problemas Sociales y Económicos**\n",
      "| grupo | nombre de grupo | lista de identificadores\n",
      "| --- | --- | --- |\n",
      "| 2 | Problemas Sociales y Económicos | 57, 33, 89, 66, 52, 93, 62, 32, 112, 101, 96, 101, 98, 43, 38, 46, 53, 104, 103\n",
      "\n",
      "**Grupo 3: Medio Ambiente y Salud**\n",
      "| grupo | nombre de grupo | lista de identificadores\n",
      "| --- | --- | --- |\n",
      "| 3 | Medio Ambiente y Salud | 56, 26, 32, 55, 28, 16, 80, 79, 29, 30, 59, 38, 17\n",
      "\n",
      "**Grupo 4: Inmigración y Integración**\n",
      "| grupo | nombre de grupo | lista de identificadores\n",
      "| --- | --- | --- |\n",
      "| 4 | Inmigración y Integración | 22, 41, 60, 35, 36, 45, 5, 17\n",
      "\n",
      "**Grupo 5: Gobernabilidad y Justicia**\n",
      "| grupo | nombre de grupo | lista de identificadores\n",
      "| --- | --- | --- |\n",
      "| 5 | Gobernabilidad y Justicia | 74, 92, 81, 37, 42, 96, 78, 95, 88, 108, 109, 110, 82, 64, 103, 70, 71, 102\n",
      "\n",
      "**Grupo 6: Educación y Cultura**\n",
      "| grupo | nombre de grupo | lista de identificadores\n",
      "| --- | --- | --- |\n",
      "| 6 | Educación y Cultura | 102, 48, 47, 44, 63, 11, 13, 4, 2\n",
      "\n",
      "**Grupo 7: Otros**\n",
      "| grupo | nombre de grupo | lista de identificadores\n",
      "| --- | --- | --- |\n",
      "| 7 | Otros | 1, 3, 6, 10, 25, 27, 39, 54, 61, 63, 85, 86, 90, 91, 97, 99, 100\n"
     ]
    }
   ],
   "source": [
    "df['SecundaryLabel'] = \"\"\n",
    "\n",
    "temp = df[df['PrimaryLabel'] != ''][['Cluster', 'PrimaryLabel']]\n",
    "temp = temp.drop_duplicates()\n",
    "\n",
    "labels = ''\n",
    "for index, row in temp.iterrows():\n",
    "  labels += f\"{row['Cluster']}|{row['PrimaryLabel']}\\n\"\n",
    "\n",
    "response = bot.prompt_without_memory(labels, INSTRUCTION_2)\n",
    "print(response)\n"
   ]
  },
  {
   "cell_type": "code",
   "execution_count": null,
   "metadata": {
    "trusted": true
   },
   "outputs": [],
   "source": [
    "print(response)"
   ]
  },
  {
   "cell_type": "markdown",
   "metadata": {},
   "source": []
  },
  {
   "cell_type": "code",
   "execution_count": null,
   "metadata": {
    "trusted": true
   },
   "outputs": [],
   "source": [
    "import re\n",
    "from collections import defaultdict\n",
    "\n",
    "# Datos de ejemplo (tu texto de entrada)\n",
    "data = response\n",
    "# Inicializar estructura para almacenar categorías e IDs\n",
    "categories = defaultdict(set)\n",
    "\n",
    "# Procesar línea por línea\n",
    "current_category = None\n",
    "for line in data.strip().splitlines():\n",
    "    if re.match(r\"^\\*\\*\\d+\\.\\s\", line):  # Detectar categoría (líneas que comienzan con \"**1.\")\n",
    "        current_category = re.sub(r\"^\\*\\*\\d+\\.\\s|\\*\\*\", \"\", line).strip()  # Limpiar texto de la categoría\n",
    "    elif line.startswith(\"*\"):  # Detectar etiquetas\n",
    "        # Extraer IDs\n",
    "        id_match = re.search(r\"\\((.+)\\)\", line)\n",
    "        if id_match:\n",
    "            ids = id_match.group(1)\n",
    "            id_list = [int(i.strip()) for i in ids.split(\",\")]  # Convertir IDs a lista de enteros\n",
    "            categories[current_category].update(id_list)  # Agregar IDs al conjunto\n",
    "\n",
    "# Convertir los valores a listas ordenadas\n",
    "categories = {key: sorted(list(value)) for key, value in categories.items()}\n",
    "\n",
    "# Imprimir resultado estructurado\n",
    "for category, ids in categories.items():\n",
    "    # print(f\"Categoría: {category}\")\n",
    "    # print(f\"  IDs: {ids}\")\n",
    "    print(f\"{category}\")\n",
    "    print(f\"{len(ids)}\")\n"
   ]
  },
  {
   "cell_type": "code",
   "execution_count": null,
   "metadata": {
    "trusted": true
   },
   "outputs": [],
   "source": [
    "for category, ids in categories.items():\n",
    "    # print(f\"Categoría: {category}\")\n",
    "    # print(f\"  IDs: {ids}\")\n",
    "    print(f\"{category}\")\n",
    "    print(f\"{len(ids)}\")"
   ]
  },
  {
   "cell_type": "code",
   "execution_count": null,
   "metadata": {
    "trusted": true
   },
   "outputs": [],
   "source": [
    "for category, ids in categories.items():\n",
    "    df.loc[df['Cluster'].isin(ids), 'SecundaryLabel'] = category"
   ]
  },
  {
   "cell_type": "code",
   "execution_count": null,
   "metadata": {
    "_kg_hide-input": true,
    "trusted": true
   },
   "outputs": [],
   "source": [
    "df[df.SecundaryLabel != '']"
   ]
  },
  {
   "cell_type": "markdown",
   "metadata": {},
   "source": [
    "## Prueba con T5"
   ]
  },
  {
   "cell_type": "code",
   "execution_count": null,
   "metadata": {
    "trusted": true
   },
   "outputs": [],
   "source": [
    "flax-community/spanish-t5-small"
   ]
  },
  {
   "cell_type": "code",
   "execution_count": null,
   "metadata": {
    "trusted": true
   },
   "outputs": [],
   "source": [
    "from transformers import T5Tokenizer, T5Model\n",
    "\n",
    "tokenizer = T5Tokenizer.from_pretrained(\"t5-small\")\n",
    "model = T5Model.from_pretrained(\"t5-small\")"
   ]
  },
  {
   "cell_type": "code",
   "execution_count": null,
   "metadata": {
    "trusted": true
   },
   "outputs": [],
   "source": [
    "# Definir el prompt y el contexto\n",
    "prompt = \"¿Hola, cómo estás? ¿Entiendes español?\"\n",
    "context = \"\"\n",
    "\n",
    "# Preparar la entrada para el modelo\n",
    "input_text = f\"context: {context} prompt: {prompt}\"  # Formato más claro y limpio\n",
    "input_ids = tokenizer(input_text, return_tensors='pt', padding=True, truncation=True).input_ids\n",
    "\n",
    "# Generar la respuesta\n",
    "outputs = model.generate(\n",
    "    input_ids, \n",
    "    max_length=50,              # Limitar la longitud de la respuesta\n",
    "    num_beams=1,                # Más haces para mejorar la calidad\n",
    "    early_stopping=True,        # Detenerse temprano si es suficiente\n",
    "    no_repeat_ngram_size=2      # Evitar repeticiones de palabras\n",
    ")\n",
    "\n",
    "# Decodificar la respuesta\n",
    "response = tokenizer.decode(outputs[0], skip_special_tokens=True)\n",
    "\n",
    "# Imprimir la respuesta\n",
    "print(\"Answer:\\t\", response)"
   ]
  },
  {
   "cell_type": "code",
   "execution_count": null,
   "metadata": {
    "trusted": true
   },
   "outputs": [],
   "source": [
    "from transformers import T5Tokenizer, T5Model\n",
    "\n",
    "tokenizer = T5Tokenizer.from_pretrained(\"t5-small\")\n",
    "model = T5Model.from_pretrained(\"t5-small\")"
   ]
  }
 ],
 "metadata": {
  "kaggle": {
   "accelerator": "nvidiaTeslaT4",
   "dataSources": [
    {
     "datasetId": 6259872,
     "sourceId": 10146468,
     "sourceType": "datasetVersion"
    }
   ],
   "dockerImageVersionId": 30805,
   "isGpuEnabled": true,
   "isInternetEnabled": true,
   "language": "python",
   "sourceType": "notebook"
  },
  "kernelspec": {
   "display_name": "Python 3",
   "language": "python",
   "name": "python3"
  },
  "language_info": {
   "codemirror_mode": {
    "name": "ipython",
    "version": 3
   },
   "file_extension": ".py",
   "mimetype": "text/x-python",
   "name": "python",
   "nbconvert_exporter": "python",
   "pygments_lexer": "ipython3",
   "version": "3.10.14"
  }
 },
 "nbformat": 4,
 "nbformat_minor": 4
}
